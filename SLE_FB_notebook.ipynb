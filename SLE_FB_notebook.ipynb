{
 "cells": [
  {
   "cell_type": "markdown",
   "metadata": {},
   "source": [
    "# Enumeration problem "
   ]
  },
  {
   "cell_type": "markdown",
   "metadata": {},
   "source": [
    "We let $(D_n)_{n\\geq0}$ be a sequence of square diagoal matrices such that: for $n\\geq0$,\n",
    "\n",
    "- $D_n$ is a $2^n\\times 2^n$ diagonal matrix;\n",
    "- the diagoal entries of $D_n$ are strictly positive real numbers."
   ]
  },
  {
   "cell_type": "markdown",
   "metadata": {},
   "source": [
    "We then consider $(A_n)_{n\\geq0}$ the sequence of $2^n\\times 2^n$ matrices defined by the recursion: $A_0=(1)$ and\n",
    "\n",
    "$$\n",
    "A_{n+1}=\n",
    "\\left(\n",
    "\\begin{array}{lr}\n",
    "A_n &  D_n A_n \\\\ \n",
    "A_n & - D_n A_n\\\\ \n",
    "\\end{array}\n",
    "\\right),\\quad\\quad\\quad n\\geq0.\n",
    "$$\n",
    "\n",
    "**Problem**: For a given $n\\geq0$, we let $d=2^n$ and consider $b,c\\in\\mathbb R^d$ such that $b\\leq c$ coordinates-wise. We would like to \n",
    "\n",
    "$$\n",
    "\\mbox{ enumerate all $k\\in\\mathbb Z^d$ such that $b\\leq A_n k \\leq c$ coordinates-wise}.\n",
    "$$\n"
   ]
  },
  {
   "cell_type": "markdown",
   "metadata": {},
   "source": [
    "# Preliminary analysis"
   ]
  },
  {
   "cell_type": "markdown",
   "metadata": {},
   "source": [
    "### Matrices $A_n$ are invertible: \n",
    "\n",
    "Indeed, given $x=(x_1,x_2)$ and $b=(b_1,b_2)$ in $\\mathbb R^{2^{n+1}}$, vertical concatenation of $x_1,x_2,b_1,b_2$ which are in $\\mathbb R^{2^{n}}$, then\n",
    "\n",
    "$$\n",
    "A_{n+1}x=b \\quad\\quad\\iff\\quad\\quad A_{n}x_1=\\frac{b_1+b_2}2,\\quad A_{n}x_2=D_n^{-1}\\frac{b_1-b_2}2.\n",
    "$$\n",
    "By induction, we can establish invertibility\n",
    "\n",
    "### Matrices $A_n$ inverses:\n",
    "\n",
    "The inverses of matrices $A_n$ can be computed by recurrence, $A_0^{-1}=(1)$ and\n",
    "\n",
    "$$\n",
    "A_{n+1}^{-1}=\n",
    "\\frac12\n",
    "\\left(\n",
    "\\begin{array}{lr}\n",
    "A_n^{-1} & A_n^{-1}   \\\\ \n",
    "A_n^{-1} D_n^{-1} & - A_n^{-1} D_n^{-1} \\\\ \n",
    "\\end{array}\n",
    "\\right),\\quad\\quad\\quad n\\geq0.\n",
    "$$\n",
    "\n",
    "\n",
    "### Determinants of Matrices $A_n$: \n",
    "\n",
    "For $n\\geq0$, \n",
    "\n",
    "$$\n",
    "A_{n+1}^\\top A_{n+1}=\n",
    "\\left(\n",
    "\\begin{array}{lr}\n",
    "2A_n^\\top A_n &  0 \\\\ \n",
    "0 & 2A_n^\\top D_n^2 A_n\\\\ \n",
    "\\end{array}\n",
    "\\right),\n",
    "$$\n",
    "\n",
    "Thus ${\\rm det}(A_{n+1})^2 = 2^n {\\rm det}(A_{n})^2 \\times 2^n {\\rm det}(A_{n})^2 {\\rm det}(D_{n})^2 $, implying\n",
    "\n",
    "$$\n",
    "{\\rm det}(A_{n+1}) = 2^n {\\rm det}(A_{n})^2 {\\rm det}(D_{n}) \n",
    "$$"
   ]
  },
  {
   "cell_type": "markdown",
   "metadata": {},
   "source": [
    "# Enumeration by induction"
   ]
  },
  {
   "cell_type": "markdown",
   "metadata": {},
   "source": [
    "Given $x=(x_1,x_2)$, $b=(b_1,b_2)$ and $c=(c_1,c_2)$ in $\\mathbb R^{2^{n+1}}$, vertical concatenation of $x_1,x_2$,$b_1,b_2$, and $c_1,c_2$ which are in $\\mathbb R^{2^{n}}$, then\n",
    "\n",
    "$$\n",
    "\\begin{array}{cr}\n",
    "b\\leq A_{n+1} x \\leq c\\\\\n",
    "\\end{array}\n",
    "\\quad\\quad\\quad\\quad\n",
    "\\iff\n",
    "\\quad\\quad\\quad\\quad\n",
    "\\begin{array}{c}\n",
    "b'\n",
    "\\leq A_n x_1 \\leq \n",
    "c'\n",
    "\\\\\n",
    "b'' \n",
    "\\leq A_n x_2 \\leq \n",
    "c'' \\\\\n",
    "\\end{array},\n",
    "$$\n",
    "\n",
    "where\n",
    "\n",
    "$$\n",
    "b' = {\\rho}_n (b),\\quad c' = {\\rho}_n (c),\n",
    "\\quad\\quad\\quad\\quad\\quad\n",
    "b'' ={\\phi}_n (A_n{x}_1,{b},{c}), \\quad c'' ={\\psi}_n (A_n{x}_1,{b},{c}).\n",
    "$$\n",
    "\n",
    "and\n",
    "\n",
    "$$\n",
    "{ \\rho}_n({ z}) = \\frac{{ z}_1+{ z}_2}2,\n",
    "\\quad\\quad\n",
    "\\begin{array}{ll}\n",
    "{ \\phi}_{n} ({ z},{ b},{ c}) = D_n^{-1}\\max ({ b}_1 - { z}, -({ c}_2 - { z})) \\\\\n",
    "{ \\psi}_{n} ({ z},{ b},{ c}) = D_n^{-1}\\min({ c}_1 - { z}, -({ b}_2 - { z}))\n",
    "\\end{array}.\n",
    "$$"
   ]
  },
  {
   "cell_type": "markdown",
   "metadata": {},
   "source": [
    "As a consequence, the enumeration process can be implemented as a d-fold loop. Given $k=(k_1,\\dots,k_{2^n})$, the constraint $b\\leq A_n k\\leq c$ is equivalent to\n",
    "\n",
    "$$\n",
    "\\underline\\gamma_j \\leq k_j \\leq \\overline\\gamma_j , \\quad\\quad\\quad j=1,\\dots,2^n\n",
    "$$\n",
    "\n",
    "where \n",
    "\n",
    "- $\\underline\\gamma_1$ and $\\overline\\gamma_1$ are the arithmetic means of $b$ and $c$ respectively, then \n",
    "- for every $j$, $\\underline\\gamma_j$ and $\\overline\\gamma_j$ depend only on $b$, $c$ and $k_1,\\dots,k_{j-1}$.  \n"
   ]
  },
  {
   "cell_type": "markdown",
   "metadata": {},
   "source": [
    "# Typical examples"
   ]
  },
  {
   "cell_type": "markdown",
   "metadata": {},
   "source": [
    "- **Hadamard lattices**: Here matrices $D_n$ are the identity matrices. Matrices $(A_n)_{n\\geq0}$ are defined by induction, $A_0=(1)$ and\n",
    "\n",
    "$$\n",
    "A_{n+1}=\n",
    "\\left(\n",
    "\\begin{array}{lr}\n",
    "A_n & A_n \\\\ \n",
    "A_n & - A_n\\\\ \n",
    "\\end{array}\n",
    "\\right),\\quad\\quad\\quad n\\geq0.\n",
    "$$\n",
    "\n",
    "Matrices $A_n$ are orthogonal and $A_n^\\top A_n = 2^n I$. In particular, their deteminants are equal to $\\sqrt{{2^n}^{2^n}}$.\n"
   ]
  },
  {
   "cell_type": "markdown",
   "metadata": {},
   "source": [
    "- **Chebechev lattices**: Here matrices $D_n$ are diagonal $2^n\\times 2^n$ whose diagonal entries are \n",
    "\n",
    "$$\n",
    "2\\cos\\left(\\frac{(2j+1)\\pi}{2\\times2^n}\\right),\\quad\\quad\\quad j=0,\\dots,2^n-1.\n",
    "$$\n",
    "\n",
    "Matrices $D_n$ have all the same determinant $\\sqrt2$. Matrices $A_n$ have determinants $\\sqrt{{2^n}^{2^n}}\\times \\sqrt{2^{2^n-1}}$"
   ]
  },
  {
   "cell_type": "markdown",
   "metadata": {},
   "source": [
    "# Typical enumeration examples"
   ]
  },
  {
   "cell_type": "markdown",
   "metadata": {},
   "source": [
    "Let $n\\geq0$, $d=2^n$ and $A_n$ a $d\\times d$ invertible matrix. Given $N$ a scaling factor, we consider the following:\n",
    "\n",
    "- First, normalize $A_n$ to have determinant $1/N$, i.e. consider\n",
    "\n",
    "$$\n",
    "M=\\frac {A_n }{({\\rm det}(A_n) N)^{1/d}}\n",
    "$$\n",
    "\n",
    "- Enumerate all the $k\\in \\mathbb Z^d$ such that $M k$ belongs to the hypercube $[-1/2,1/2]^d$, which has volume 1.\n",
    "\n",
    "\n",
    "In other words, we would like to enumerate all the $k\\in \\mathbb Z^d$ such that $A_n k$ belongs to the hypercube \n",
    "\n",
    "$$\n",
    "[-\\rho,+\\rho]^d,\\quad\\quad\\quad\\quad\n",
    "\\rho=({\\rm det}(A_n) N)^{1/d}/2\n",
    "$$ "
   ]
  },
  {
   "cell_type": "markdown",
   "metadata": {},
   "source": [
    "- **Hadamard lattices**: if we consider $A_n$ corresponding to the $d$-dimensional Hadamard lattice, then\n",
    "\n",
    "$$\n",
    "\\rho = \\frac{N^{1/d}\\sqrt {d}}2\n",
    "$$\n",
    "\n",
    "- **Chebechev lattices**: if we consider $A_n$ corresponding to the $d$-dimensional Chebechev lattice, then\n",
    "\n",
    "$$\n",
    "\\rho = (N/\\sqrt2)^{1/d}\\sqrt {d/2}\n",
    "$$"
   ]
  },
  {
   "cell_type": "markdown",
   "metadata": {},
   "source": [
    "# Code \n",
    "\n",
    "The c++ code implements the enumeration process. The main function is \n",
    "\n",
    "```\n",
    "SLE_FB(size_t n, const vec_real& b, const vec_real& c)\n",
    "```\n",
    "\n",
    "which is located in file SLE_FB.h. Before calling the enumeration for given n,b and c, one has to initialize matrices $D_0$, $D_1$, $D_2$, etc. This has to done as shown in the example enumerating Hadamard and Chebechev lattice, see main.cpp."
   ]
  },
  {
   "cell_type": "code",
   "execution_count": null,
   "metadata": {},
   "outputs": [],
   "source": []
  }
 ],
 "metadata": {
  "kernelspec": {
   "display_name": "Python 3",
   "language": "python",
   "name": "python3"
  },
  "language_info": {
   "codemirror_mode": {
    "name": "ipython",
    "version": 3
   },
   "file_extension": ".py",
   "mimetype": "text/x-python",
   "name": "python",
   "nbconvert_exporter": "python",
   "pygments_lexer": "ipython3",
   "version": "3.7.4"
  },
  "toc": {
   "base_numbering": 1,
   "nav_menu": {},
   "number_sections": true,
   "sideBar": true,
   "skip_h1_title": false,
   "title_cell": "Table of Contents",
   "title_sidebar": "Contents",
   "toc_cell": false,
   "toc_position": {},
   "toc_section_display": true,
   "toc_window_display": false
  },
  "varInspector": {
   "cols": {
    "lenName": 16,
    "lenType": 16,
    "lenVar": 40
   },
   "kernels_config": {
    "python": {
     "delete_cmd_postfix": "",
     "delete_cmd_prefix": "del ",
     "library": "var_list.py",
     "varRefreshCmd": "print(var_dic_list())"
    },
    "r": {
     "delete_cmd_postfix": ") ",
     "delete_cmd_prefix": "rm(",
     "library": "var_list.r",
     "varRefreshCmd": "cat(var_dic_list()) "
    }
   },
   "types_to_exclude": [
    "module",
    "function",
    "builtin_function_or_method",
    "instance",
    "_Feature"
   ],
   "window_display": false
  }
 },
 "nbformat": 4,
 "nbformat_minor": 2
}
